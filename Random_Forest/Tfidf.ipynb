{
  "nbformat": 4,
  "nbformat_minor": 0,
  "metadata": {
    "colab": {
      "name": "Random_Forest.ipynb",
      "provenance": [],
      "collapsed_sections": [],
      "authorship_tag": "ABX9TyMbp16o//4/06Cnyn6Vw3sS",
      "include_colab_link": true
    },
    "kernelspec": {
      "name": "python3",
      "display_name": "Python 3"
    },
    "language_info": {
      "name": "python"
    }
  },
  "cells": [
    {
      "cell_type": "markdown",
      "metadata": {
        "id": "view-in-github",
        "colab_type": "text"
      },
      "source": [
        "<a href=\"https://colab.research.google.com/github/aggelospsiris/Data-mining-and-Learning-Algorithms/blob/main/Random_Forest/Tfidf.ipynb\" target=\"_parent\"><img src=\"https://colab.research.google.com/assets/colab-badge.svg\" alt=\"Open In Colab\"/></a>"
      ]
    },
    {
      "cell_type": "code",
      "execution_count": 20,
      "metadata": {
        "id": "yIn7XnL57Ucs",
        "colab": {
          "base_uri": "https://localhost:8080/"
        },
        "outputId": "a2cb8a27-7c16-4aef-f6fc-a3c4ab6cc092"
      },
      "outputs": [
        {
          "output_type": "stream",
          "name": "stdout",
          "text": [
            "[nltk_data] Downloading package punkt to /root/nltk_data...\n",
            "[nltk_data]   Unzipping tokenizers/punkt.zip.\n"
          ]
        },
        {
          "output_type": "execute_result",
          "data": {
            "text/plain": [
              "True"
            ]
          },
          "metadata": {},
          "execution_count": 20
        }
      ],
      "source": [
        "from nltk import word_tokenize\n",
        "from sklearn.feature_extraction.text import TfidfVectorizer, ENGLISH_STOP_WORDS\n",
        "import nltk\n",
        "\n",
        "nltk.download('punkt')"
      ]
    },
    {
      "cell_type": "code",
      "source": [
        "import pandas as pd\n",
        "\n",
        "# Read csv file\n",
        "df = pd.read_csv('/content/sample_data/amazon.csv')\n",
        " \n",
        "# View the first 5 rows of data\n",
        "print(df.head())\n",
        " \n",
        "# Tokenize each item in the review column\n",
        "word_tokens = [word_tokenize(text) for text in df.Text]"
      ],
      "metadata": {
        "id": "BVnW65QL9Mbz",
        "colab": {
          "base_uri": "https://localhost:8080/"
        },
        "outputId": "aa457fb1-6344-4d47-846f-931dd8f693c3"
      },
      "execution_count": 21,
      "outputs": [
        {
          "output_type": "stream",
          "name": "stdout",
          "text": [
            "                                                Text  Score\n",
            "0  The description and photo on this product need...      3\n",
            "1  This was a great book!!!! It is well thought t...      5\n",
            "2  I am a first year teacher, teaching 5th grade....      5\n",
            "3  I got the book at my bookfair at school lookin...      5\n",
            "4  Hi! I'm Martine Redman and I created this puzz...      5\n"
          ]
        }
      ]
    },
    {
      "cell_type": "markdown",
      "source": [
        "Note that we tokenize the reviews in a list comprehension. List comprehensions in python can make use of vectorizing loops and hence provide faster computation than a Python for loop.\n",
        "\n",
        "Next, we add another column to the data frame called ”n_words’, which contains the number of words in the review. We do this because we believe that the number of words in a review can potentially have predictive power on such a classification problem."
      ],
      "metadata": {
        "id": "2Bq3WI9ppcgK"
      }
    },
    {
      "cell_type": "code",
      "source": [
        "# Create an empty list to store the length of the reviews\n",
        "len_tokens = []\n",
        " \n",
        "# Iterate over the word_tokens list and determine the length of each item\n",
        "for i in range(len(word_tokens)):\n",
        "    len_tokens.append(len(word_tokens[i]))\n",
        " \n",
        "# Create a new feature for the lengh of each review\n",
        "df['n_words'] = len_tokens\n"
      ],
      "metadata": {
        "id": "h2VwXGGL9LrO"
      },
      "execution_count": 22,
      "outputs": []
    },
    {
      "cell_type": "markdown",
      "source": [
        "I am implementing the tfidf method to transform the reviews into numeric data"
      ],
      "metadata": {
        "id": "TbW7_Dhdprdi"
      }
    },
    {
      "cell_type": "code",
      "source": [
        "# Build the vectorizer\n",
        "vect = TfidfVectorizer(\n",
        "                stop_words=ENGLISH_STOP_WORDS,\n",
        "                ngram_range=(1, 2),\n",
        "                max_features=200,\n",
        "                token_pattern=r'\\b[^\\d\\W][^\\d\\W]+\\b').fit(df.Text)\n",
        " \n",
        "# Create sparse matrix from the vectorizer\n",
        "X = vect.transform(df.Text)\n",
        "\n"
      ],
      "metadata": {
        "id": "yFZHJNw1jD2J"
      },
      "execution_count": 23,
      "outputs": []
    },
    {
      "cell_type": "code",
      "source": [
        "# Create a DataFrame\n",
        "df2 = pd.DataFrame(X.toarray(), columns=vect.get_feature_names())\n",
        "df2['y'] = df.Score\n",
        "\n"
      ],
      "metadata": {
        "id": "U7RkwhWTGdeA",
        "colab": {
          "base_uri": "https://localhost:8080/"
        },
        "outputId": "4c9b8686-c4ba-4765-fb41-9d196786a533"
      },
      "execution_count": 28,
      "outputs": [
        {
          "output_type": "stream",
          "name": "stderr",
          "text": [
            "/usr/local/lib/python3.7/dist-packages/sklearn/utils/deprecation.py:87: FutureWarning: Function get_feature_names is deprecated; get_feature_names is deprecated in 1.0 and will be removed in 1.2. Please use get_feature_names_out instead.\n",
            "  warnings.warn(msg, category=FutureWarning)\n"
          ]
        }
      ]
    },
    {
      "cell_type": "code",
      "source": [
        "import numpy as np\n",
        "\n",
        "# Transform data into predictors 'X' and outcome 'y'\n",
        "X = df2.drop('y', axis=1).values\n",
        "y = df2['y'].values\n",
        " \n",
        "unique, counts = np.unique(y, return_counts=True)\n",
        "print('Total number of cases: %d'%len(y))\n",
        "print('Number of cases in each classification: ', dict(zip(unique, counts)))\n",
        "\n",
        "\n"
      ],
      "metadata": {
        "id": "xRoGoyntRWA1",
        "colab": {
          "base_uri": "https://localhost:8080/"
        },
        "outputId": "94b1ad9f-0fc1-4a9a-d586-46ff387612bc"
      },
      "execution_count": 31,
      "outputs": [
        {
          "output_type": "stream",
          "name": "stdout",
          "text": [
            "Total number of cases: 50000\n",
            "Number of cases in each classification:  {1: 5021, 2: 2918, 3: 3902, 4: 8384, 5: 29775}\n"
          ]
        }
      ]
    },
    {
      "cell_type": "code",
      "source": [
        "from sklearn.model_selection import train_test_split\n",
        " \n",
        "# Split dataset into 80% train, 20% test\n",
        "X_train, X_test, y_train, y_test = train_test_split(X, y,\n",
        "                                                      test_size=0.2,\n",
        "                                                      stratify=y,\n",
        "                                                      random_state=100)\n",
        "\n"
      ],
      "metadata": {
        "id": "qTw8E6NK5f5G"
      },
      "execution_count": 35,
      "outputs": []
    },
    {
      "cell_type": "code",
      "source": [
        "#Random Forest model\n",
        "from sklearn.ensemble import RandomForestClassifier\n",
        " \n",
        "# Instantiate Random Forest Classifier\n",
        "model = RandomForestClassifier(n_estimators=800,\n",
        "                                   max_depth=4,\n",
        "                                   min_samples_leaf=0.001,\n",
        "                                   random_state=100,\n",
        "                                   n_jobs=-1)\n",
        " \n",
        "# Fit model to the training set\n",
        "model.fit(X_train, y_train)\n",
        "\n"
      ],
      "metadata": {
        "colab": {
          "base_uri": "https://localhost:8080/"
        },
        "id": "PiQAKiS1zg-c",
        "outputId": "3e3ea1e9-6d78-4a26-c6b0-015e20063213"
      },
      "execution_count": 36,
      "outputs": [
        {
          "output_type": "execute_result",
          "data": {
            "text/plain": [
              "RandomForestClassifier(max_depth=4, min_samples_leaf=0.001, n_estimators=800,\n",
              "                       n_jobs=-1, random_state=100)"
            ]
          },
          "metadata": {},
          "execution_count": 36
        }
      ]
    },
    {
      "cell_type": "code",
      "source": [
        "#Metrics\n",
        "\n",
        "from sklearn import metrics\n",
        " \n",
        "# Predict test set labels\n",
        "y_pred = model.predict(X_test)\n",
        "\n",
        "# Evaluate test set accuracy\n",
        "print('Accuracy score (train set) = %0.4f'%metrics.accuracy_score(y_train, model.predict(X_train)))\n",
        "print('Accuracy score (test set) = %0.4f'%metrics.accuracy_score(y_test, y_pred))\n",
        "\n",
        "\n",
        "\n",
        " \n",
        "print(metrics.classification_report(y_test, y_pred))\n",
        "\n"
      ],
      "metadata": {
        "colab": {
          "base_uri": "https://localhost:8080/"
        },
        "id": "W2qgxqKgtJIO",
        "outputId": "e01e8f63-a930-47ad-fc93-df178b63e84a"
      },
      "execution_count": 39,
      "outputs": [
        {
          "output_type": "stream",
          "name": "stdout",
          "text": [
            "Accuracy score (train set) = 0.5955\n",
            "Accuracy score (test set) = 0.5955\n",
            "              precision    recall  f1-score   support\n",
            "\n",
            "           1       0.00      0.00      0.00      1004\n",
            "           2       0.00      0.00      0.00       584\n",
            "           3       0.00      0.00      0.00       780\n",
            "           4       0.00      0.00      0.00      1677\n",
            "           5       0.60      1.00      0.75      5955\n",
            "\n",
            "    accuracy                           0.60     10000\n",
            "   macro avg       0.12      0.20      0.15     10000\n",
            "weighted avg       0.35      0.60      0.44     10000\n",
            "\n"
          ]
        },
        {
          "output_type": "stream",
          "name": "stderr",
          "text": [
            "/usr/local/lib/python3.7/dist-packages/sklearn/metrics/_classification.py:1318: UndefinedMetricWarning: Precision and F-score are ill-defined and being set to 0.0 in labels with no predicted samples. Use `zero_division` parameter to control this behavior.\n",
            "  _warn_prf(average, modifier, msg_start, len(result))\n",
            "/usr/local/lib/python3.7/dist-packages/sklearn/metrics/_classification.py:1318: UndefinedMetricWarning: Precision and F-score are ill-defined and being set to 0.0 in labels with no predicted samples. Use `zero_division` parameter to control this behavior.\n",
            "  _warn_prf(average, modifier, msg_start, len(result))\n",
            "/usr/local/lib/python3.7/dist-packages/sklearn/metrics/_classification.py:1318: UndefinedMetricWarning: Precision and F-score are ill-defined and being set to 0.0 in labels with no predicted samples. Use `zero_division` parameter to control this behavior.\n",
            "  _warn_prf(average, modifier, msg_start, len(result))\n"
          ]
        }
      ]
    }
  ]
}